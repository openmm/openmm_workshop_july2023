{
  "cells": [
    {
      "attachments": {},
      "cell_type": "markdown",
      "metadata": {
        "id": "XRNaTJ_zfULZ"
      },
      "source": [
        "# Building OpenMM from source\n",
        "\n",
        "You can run this notebook in your browser: \n",
        "\n",
        "[![Open On Colab](https://colab.research.google.com/assets/colab-badge.svg)](https://colab.research.google.com/github/openmm/openmm_workshop_july2023/blob/main/extra/compile_openmm.ipynb)\n",
        "\n",
        "This notebook makes extensive use of shell commands and is designed for use in Colab. If you are running on your own machine, it will be simpler to run the commands directly in the terminal.\n",
        "\n",
        "These compilattions steps should work on Linux and MacOS. If you are using Windows, you will need to use a [different approach](http://docs.openmm.org/latest/userguide/library/02_compiling.html#compiling-on-windows), which can be found in the [OpenMM user guide](http://docs.openmm.org/latest/userguide/index.html)."
      ]
    },
    {
      "cell_type": "code",
      "execution_count": null,
      "metadata": {
        "id": "-cikNllCbvsg"
      },
      "outputs": [],
      "source": [
        "# Execute this cell to install mamba in the Colab environment\n",
        "if 'google.colab' in str(get_ipython()):\n",
        "  print('Running on colab')\n",
        "  !pip install -q condacolab\n",
        "  import condacolab\n",
        "  condacolab.install_mambaforge()\n",
        "else:\n",
        "  print('Not running on colab')\n",
        "  print('Make sure you create and activate a new conda environment')"
      ]
    },
    {
      "attachments": {},
      "cell_type": "markdown",
      "metadata": {
        "id": "aKpCFAwfnNBH"
      },
      "source": [
        "## Install the OpenMM dependencies from conda-forge\n",
        "- Replace mamba with conda if you don't have mamba installed.\n",
        "- Remove `cudatoolkit` if you do not have a GPU or you are on MacOS."
      ]
    },
    {
      "cell_type": "code",
      "execution_count": null,
      "metadata": {
        "id": "Q9tQy225cLoc"
      },
      "outputs": [],
      "source": [
        "!mamba install -y -c conda-forge cython swig doxygen cudatoolkit cmake numpy pytest"
      ]
    },
    {
      "attachments": {},
      "cell_type": "markdown",
      "metadata": {
        "id": "9faMKC-onNBH"
      },
      "source": [
        "## Get the OpenMM source code"
      ]
    },
    {
      "cell_type": "code",
      "execution_count": null,
      "metadata": {
        "id": "K1oJFs5red2I"
      },
      "outputs": [],
      "source": [
        "!git clone https://github.com/openmm/openmm.git"
      ]
    },
    {
      "cell_type": "code",
      "execution_count": null,
      "metadata": {
        "id": "jll45ZTefPiO"
      },
      "outputs": [],
      "source": [
        "# make build folder\n",
        "!mkdir openmm/build"
      ]
    },
    {
      "cell_type": "code",
      "execution_count": null,
      "metadata": {
        "id": "pIHeuFsffymk"
      },
      "outputs": [],
      "source": [
        "# change to build folder\n",
        "%cd openmm/build"
      ]
    },
    {
      "attachments": {},
      "cell_type": "markdown",
      "metadata": {
        "id": "TWf8oNvmnNBI"
      },
      "source": [
        "## Configure with cmake.\n",
        "\n",
        "On your own machine in terminal you can call `ccmake ..`  (note the extra c ) to open a graphical interface to see and modify the cmake options.\n",
        "Here we use the `CMAKE_INSTALL_PREFIX` option to set the install location as the openmm directory we created with `git`. You can change this to a different location on your own machine. It is common to set it to `$CONDA_PREFIX` to install it in the conda environment you are building in."
      ]
    },
    {
      "cell_type": "code",
      "execution_count": null,
      "metadata": {
        "id": "wxvcI4IahQr4"
      },
      "outputs": [],
      "source": [
        "# configure with cmake\n",
        "!cmake .. -DCMAKE_INSTALL_PREFIX=../"
      ]
    },
    {
      "attachments": {},
      "cell_type": "markdown",
      "metadata": {
        "id": "wZ8IGGTTnNBI"
      },
      "source": [
        "## Build with make\n",
        "\n",
        "The `make` command is used to compile the code. This step might take a while. You can use the `-j<n>` flag to tell make to use multiple cores. e.g. `make -j8` uses 8 cores for the build process."
      ]
    },
    {
      "cell_type": "code",
      "execution_count": null,
      "metadata": {
        "id": "0HYcMk9ChhZm"
      },
      "outputs": [],
      "source": [
        "!make -j2"
      ]
    },
    {
      "attachments": {},
      "cell_type": "markdown",
      "metadata": {
        "id": "Abzk34R8nNBI"
      },
      "source": [
        "## Install\n",
        "The `make install` step copies the built code to the location specified by `-DCMAKE_INSTALL_PREFIX` used with `cmake` previously"
      ]
    },
    {
      "cell_type": "code",
      "execution_count": null,
      "metadata": {
        "id": "Bcd94KOorh9v"
      },
      "outputs": [],
      "source": [
        "!make install"
      ]
    },
    {
      "attachments": {},
      "cell_type": "markdown",
      "metadata": {
        "id": "V9PkYQNQnNBJ"
      },
      "source": [
        "## Build and install the Python API"
      ]
    },
    {
      "cell_type": "code",
      "execution_count": null,
      "metadata": {
        "id": "3fkJmvQQr6MN"
      },
      "outputs": [],
      "source": [
        "!make PythonInstall"
      ]
    },
    {
      "attachments": {},
      "cell_type": "markdown",
      "metadata": {
        "id": "sz1_R7A5nNBJ"
      },
      "source": [
        "## Testing"
      ]
    },
    {
      "attachments": {},
      "cell_type": "markdown",
      "metadata": {},
      "source": [
        "Run the OpenMM installation test suite. This test is also available in the version installed from conda-forge. It first checks which platforms are available and then verifies that the forces computed with each platform are in agreement."
      ]
    },
    {
      "cell_type": "code",
      "execution_count": null,
      "metadata": {
        "id": "baab_gVEtQqK"
      },
      "outputs": [],
      "source": [
        "!python -m openmm.testInstallation"
      ]
    },
    {
      "attachments": {},
      "cell_type": "markdown",
      "metadata": {},
      "source": [
        "Run the unit tests. These tests are written in the C++ API."
      ]
    },
    {
      "cell_type": "code",
      "execution_count": null,
      "metadata": {
        "id": "IAkM3llWnNBJ"
      },
      "outputs": [],
      "source": [
        "!make test"
      ]
    },
    {
      "attachments": {},
      "cell_type": "markdown",
      "metadata": {},
      "source": [
        "Run the Python Wrapper tests."
      ]
    },
    {
      "cell_type": "code",
      "execution_count": null,
      "metadata": {
        "id": "T0jWEhcGnNBJ"
      },
      "outputs": [],
      "source": [
        "%cd python/tests"
      ]
    },
    {
      "cell_type": "code",
      "execution_count": null,
      "metadata": {
        "id": "kwMTgVWznNBJ"
      },
      "outputs": [],
      "source": [
        "!pytest -v"
      ]
    }
  ],
  "metadata": {
    "accelerator": "GPU",
    "colab": {
      "gpuType": "T4",
      "provenance": []
    },
    "kernelspec": {
      "display_name": "Python 3",
      "name": "python3"
    },
    "language_info": {
      "codemirror_mode": {
        "name": "ipython",
        "version": 3
      },
      "file_extension": ".py",
      "mimetype": "text/x-python",
      "name": "python",
      "nbconvert_exporter": "python",
      "pygments_lexer": "ipython3",
      "version": "3.11.3"
    }
  },
  "nbformat": 4,
  "nbformat_minor": 0
}
