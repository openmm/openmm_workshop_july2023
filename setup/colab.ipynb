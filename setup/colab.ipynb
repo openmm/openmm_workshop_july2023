{
 "cells": [
  {
   "attachments": {},
   "cell_type": "markdown",
   "metadata": {},
   "source": [
    "# Using Colab"
   ]
  },
  {
   "cell_type": "markdown",
   "metadata": {},
   "source": [
    "## Prerequisites\n",
    "You will need a Google account to use Colab.\n",
    "\n",
    "If you can run this example notebook from Google Colab then you are all set: https://colab.research.google.com/notebooks/basic_features_overview.ipynb"
   ]
  },
  {
   "cell_type": "markdown",
   "metadata": {},
   "source": [
    "## Usage\n",
    "Each notebook will have an `Open in Colab` icon which you can click:\n",
    "\n",
    "[![Open in Colab](https://colab.research.google.com/assets/colab-badge.svg)](https://colab.research.google.com/github/openmm/openmm_workshops/blob/main/setup/colab.ipynb)\n",
    "\n",
    "The first time you run a notebook in Colab, you will get a warning like this:\n",
    "\n",
    "```\n",
    "Warning: This notebook was not authored by Google\n",
    "This notebook is being loaded from GitHub.\n",
    "```\n",
    "\n",
    "You can ignore it and click the `run anyway` button.\n",
    "\n",
    "By default, your Colab instance will be CPU only. You can change to a GPU instance by clicking `runtime`→`change runtime type` and selecting `T4 GPU` from the `Hardware accelerator` dropdown menu."
   ]
  },
  {
   "cell_type": "markdown",
   "metadata": {},
   "source": [
    "## To use conda commands in Colab you will need to run this code block first."
   ]
  },
  {
   "cell_type": "code",
   "execution_count": null,
   "metadata": {},
   "outputs": [],
   "source": [
    "# Execute this cell to install mamba in the Colab environment\n",
    "if 'google.colab' in str(get_ipython()):\n",
    "  print('Running on colab')\n",
    "  !pip install -q condacolab\n",
    "  import condacolab\n",
    "  condacolab.install_mambaforge()\n",
    "else:\n",
    "  print('Not running on colab.')\n",
    "  print('Make sure you create and activate a new conda environment!')"
   ]
  },
  {
   "attachments": {},
   "cell_type": "markdown",
   "metadata": {},
   "source": [
    "This will install `mamba` in Colab and the kernel will be automatically restarted. This will make Colab output an error message saying \"Your session crashed for an unknown reason.\" This is normal and can be safely ignored.\n",
    "\n",
    "## Mamba _vs_ Conda\n",
    "`mamba` is a drop in replacement for `conda` that is significantly faster at solving environments and installing the packages. We recommend using `mamba` for improved performance. Note, however, that all `mamba install` commands can be replaced with `conda install` and should work the same way."
   ]
  },
  {
   "cell_type": "markdown",
   "metadata": {},
   "source": [
    "## Install OpenMM \n",
    "OpenMM can be installed from conda-forge.\n",
    "\n",
    "<div class=\"alert alert-block alert-info\">\n",
    "⚠️ <b>Note that the installation will take several minutes!</b>\n",
    "</div>"
   ]
  },
  {
   "cell_type": "code",
   "execution_count": null,
   "metadata": {},
   "outputs": [],
   "source": [
    "# install openmm in the current active conda environment\n",
    "!mamba install -y -c conda-forge openmm"
   ]
  },
  {
   "attachments": {},
   "cell_type": "markdown",
   "metadata": {},
   "source": [
    "## Test the installation\n",
    "\n",
    "OpenMM provides a test utility that checks which platforms are available and if they work correctly.\n",
    "The output should look similar to this if you are using a CPU-only Colab instance:\n",
    "\n",
    "```\n",
    "OpenMM Version: 8.1.2\n",
    "Git Revision: 440a9c7ae5df23ea1ab93798a422b6d9fd3ada99\n",
    "\n",
    "There are 2 Platforms available:\n",
    "\n",
    "1 Reference - Successfully computed forces\n",
    "2 CPU - Successfully computed forces\n",
    "\n",
    "Median difference in forces between platforms:\n",
    "\n",
    "Reference vs. CPU: 6.2971e-06\n",
    "\n",
    "All differences are within tolerance.\n",
    "```"
   ]
  },
  {
   "cell_type": "code",
   "execution_count": null,
   "metadata": {},
   "outputs": [],
   "source": [
    "# Test openmm\n",
    "!python -m openmm.testInstallation"
   ]
  }
 ],
 "metadata": {
  "language_info": {
   "name": "python"
  },
  "orig_nbformat": 4
 },
 "nbformat": 4,
 "nbformat_minor": 2
}
